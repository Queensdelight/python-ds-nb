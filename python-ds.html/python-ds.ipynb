{
 "cells": [
  {
   "cell_type": "markdown",
   "metadata": {},
   "source": [
    "# Web Mining and Applied NLP (44-620)\n",
    "\n",
    "## Python Notebooks, Basics, and Data Structures\n",
    "\n",
    "### Student Name: Bukola Adeniyan\n",
    "\n"
   ]
  },
  {
   "cell_type": "markdown",
   "metadata": {},
   "source": [
    "Question 1. Modify the Markdown cell above to put your name after \"Student Name:\"; you will be expected to do this in all assignments presented in this format for this class."
   ]
  },
  {
   "cell_type": "markdown",
   "metadata": {},
   "source": [
    "Question 2. Write code that divides any two numbers, stores the result in a variable, and prints the result with an appropriate label."
   ]
  },
  {
   "cell_type": "code",
   "execution_count": 7,
   "metadata": {},
   "outputs": [
    {
     "name": "stdout",
     "output_type": "stream",
     "text": [
      "The result of dividing 10 by 2 is: 5.0\n"
     ]
    }
   ],
   "source": [
    "# Define the two numbers\n",
    "num1 = 10  \n",
    "num2 = 2   \n",
    "\n",
    "# Divide the two numbers and store the result\n",
    "result = num1 / num2\n",
    "\n",
    "# Print the result with an appropriate label\n",
    "print(f\"The result of dividing {num1} by {num2} is: {result}\")"
   ]
  },
  {
   "cell_type": "markdown",
   "metadata": {},
   "source": [
    "Question 3. Using loops (and potentially conditionals), write Python code that prints the factorial of each integer from 1 through 10 (which you can store in a variable if you want). The factorial of an integer is the product of all of the integers of 1 through the number. Print the result with an appropriate label."
   ]
  },
  {
   "cell_type": "code",
   "execution_count": 8,
   "metadata": {},
   "outputs": [
    {
     "name": "stdout",
     "output_type": "stream",
     "text": [
      "The factorial of 1 is: 1\n",
      "The factorial of 2 is: 2\n",
      "The factorial of 3 is: 6\n",
      "The factorial of 4 is: 24\n",
      "The factorial of 5 is: 120\n",
      "The factorial of 6 is: 720\n",
      "The factorial of 7 is: 5040\n",
      "The factorial of 8 is: 40320\n",
      "The factorial of 9 is: 362880\n",
      "The factorial of 10 is: 3628800\n"
     ]
    }
   ],
   "source": [
    "# Loop through integers from 1 to 10\n",
    "for i in range(1, 11):\n",
    "    # Initialize factorial variable\n",
    "    factorial = 1\n",
    "    \n",
    "    # Calculate the factorial of the current integer\n",
    "    for j in range(1, i + 1):\n",
    "        factorial *= j\n",
    "        \n",
    "    # Print the result with an appropriate label\n",
    "    print(f\"The factorial of {i} is: {factorial}\")\n"
   ]
  },
  {
   "cell_type": "markdown",
   "metadata": {},
   "source": [
    "Question 4. Write a python function that takes a single parameter and calculates and returns the average (mean) of the values in the parameter (which you may assume is iterable).  Show that your function works by printing the result of calling the function on the list in the cell below."
   ]
  },
  {
   "cell_type": "code",
   "execution_count": 9,
   "metadata": {},
   "outputs": [
    {
     "name": "stdout",
     "output_type": "stream",
     "text": [
      "The average of the list [1, -1, 2, -2, 3, -3, 4, -4] is: 0.0\n"
     ]
    }
   ],
   "source": [
    "def calculate_average(values):\n",
    "    # Check if the iterable is not empty\n",
    "    if not values:\n",
    "        return 0  # Return 0 or handle as appropriate for empty input\n",
    "\n",
    "    # Calculate the sum and count of the values\n",
    "    total_sum = sum(values)\n",
    "    count = len(values)\n",
    "    \n",
    "    # Calculate the average\n",
    "    average = total_sum / count\n",
    "    return average\n",
    "\n",
    "# Given test list\n",
    "testlist = [1, -1, 2, -2, 3, -3, 4, -4]\n",
    "\n",
    "# Call the function and print the result\n",
    "average_result = calculate_average(testlist)\n",
    "print(f\"The average of the list {testlist} is: {average_result}\")"
   ]
  },
  {
   "cell_type": "markdown",
   "metadata": {},
   "source": [
    "Question 5. Using your mean function above, write a function that calculates the variance of the list of numbers (see https://en.wikipedia.org/wiki/Variance for more information on the formula). In short:\n",
    "* subtract the mean of the elements in the list from every element in the list; store these values in a new list\n",
    "* square every element in the new list and sum the elements together\n",
    "* divide the resulting number by N (where N is the length of the original list)\n",
    "\n",
    "Show the result of calling your function in the lists in the code cell. You must use one or more list comprehensions or map/filter in your code.\n"
   ]
  },
  {
   "cell_type": "code",
   "execution_count": 10,
   "metadata": {},
   "outputs": [
    {
     "name": "stdout",
     "output_type": "stream",
     "text": [
      "The variance of list1 is: 1.13973309\n",
      "The variance of list2 is: 0.9257232841\n"
     ]
    }
   ],
   "source": [
    "def calculate_variance(values):\n",
    "    # Calculate the mean using the previously defined function\n",
    "    mean_value = calculate_average(values)\n",
    "    \n",
    "    # Create a new list by subtracting the mean from each element\n",
    "    deviations = [x - mean_value for x in values]\n",
    "    \n",
    "    # Square each deviation and sum them up\n",
    "    squared_deviations = [d ** 2 for d in deviations]\n",
    "    \n",
    "    # Calculate variance by dividing the sum of squared deviations by N\n",
    "    variance = sum(squared_deviations) / len(values)\n",
    "    \n",
    "    return variance\n",
    "\n",
    "# Given lists\n",
    "list1 = [5.670e-1, -1.480e+0, -5.570e-1, -1.470e+0, 7.340e-1, 1.050e+0, 4.480e-1, 2.570e-1, -1.970e+0, -1.460e+0]\n",
    "list2 = [-1.780e+0, 2.640e-1, 1.160e+0, 9.080e-1, 1.780e+0, 1.080e+0, 1.050e+0, -4.630e-2, 1.520e+0, 5.350e-1]\n",
    "\n",
    "# Call the variance function on both lists and print the results\n",
    "variance_list1 = calculate_variance(list1)\n",
    "variance_list2 = calculate_variance(list2)\n",
    "\n",
    "print(f\"The variance of list1 is: {variance_list1}\")\n",
    "print(f\"The variance of list2 is: {variance_list2}\")\n"
   ]
  },
  {
   "cell_type": "markdown",
   "metadata": {},
   "source": [
    "Question 6. Create a list with at least 15 elements in it. Use list slicing to print the following:\n",
    "* The first 5 elements of the list\n",
    "* The last 5 elements of the list\n",
    "* The list reversed (hint, show the entire list with a stride of -1)\n",
    "* Every second element in the list\n",
    "* Every third element in the list (stride of 3)"
   ]
  },
  {
   "cell_type": "code",
   "execution_count": 11,
   "metadata": {},
   "outputs": [
    {
     "name": "stdout",
     "output_type": "stream",
     "text": [
      "First 5 elements: [1, 2, 3, 4, 5]\n",
      "Last 5 elements: [16, 17, 18, 19, 20]\n",
      "Reversed list: [20, 19, 18, 17, 16, 15, 14, 13, 12, 11, 10, 9, 8, 7, 6, 5, 4, 3, 2, 1]\n",
      "Every second element: [1, 3, 5, 7, 9, 11, 13, 15, 17, 19]\n",
      "Every third element: [1, 4, 7, 10, 13, 16, 19]\n"
     ]
    }
   ],
   "source": [
    "# Define a list with at least 15 elements\n",
    "my_list = [1, 2, 3, 4, 5, 6, 7, 8, 9, 10, 11, 12, 13, 14, 15, 16, 17, 18, 19, 20]\n",
    "\n",
    "# The first 5 elements of the list\n",
    "print(\"First 5 elements:\", my_list[:5])\n",
    "\n",
    "# The last 5 elements of the list\n",
    "print(\"Last 5 elements:\", my_list[-5:])\n",
    "\n",
    "# The list reversed\n",
    "print(\"Reversed list:\", my_list[::-1])\n",
    "\n",
    "# Every second element in the list\n",
    "print(\"Every second element:\", my_list[::2])\n",
    "\n",
    "# Every third element in the list\n",
    "print(\"Every third element:\", my_list[::3])"
   ]
  },
  {
   "cell_type": "markdown",
   "metadata": {},
   "source": [
    "Question 7. Build a dictionary that contains the following information about this class (with appropriate names as keys):\n",
    "* The name\n",
    "* The course number\n",
    "* The semester/term in which you are taking this course\n",
    "* The number of credit hours this course counts for\n",
    "* A list of the course learning objectives\n",
    "\n",
    "The majority of this information can be found in the syllabus. Print the dictionary."
   ]
  },
  {
   "cell_type": "code",
   "execution_count": 12,
   "metadata": {},
   "outputs": [
    {
     "name": "stdout",
     "output_type": "stream",
     "text": [
      "{'name': 'Introduction to Data Analytics', 'course_number': 'NW101', 'semester': 'Fall 2024', 'credit_hours': 3, 'learning_objectives': ['Understand the fundamentals of data analysis', 'Apply statistical methods to real-world datasets', 'Use Python and Excel for data manipulation and visualization', 'Interpret and communicate data findings effectively', 'Develop skills to work with databases and data warehouses']}\n"
     ]
    }
   ],
   "source": [
    "# Define the dictionary with class information\n",
    "course_info = {\n",
    "    \"name\": \"Introduction to Data Analytics\",\n",
    "    \"course_number\": \"NW101\",\n",
    "    \"semester\": \"Fall 2024\",\n",
    "    \"credit_hours\": 3,\n",
    "    \"learning_objectives\": [\n",
    "        \"Understand the fundamentals of data analysis\",\n",
    "        \"Apply statistical methods to real-world datasets\",\n",
    "        \"Use Python and Excel for data manipulation and visualization\",\n",
    "        \"Interpret and communicate data findings effectively\",\n",
    "        \"Develop skills to work with databases and data warehouses\"\n",
    "    ]\n",
    "}\n",
    "\n",
    "# Print the dictionary\n",
    "print(course_info)\n"
   ]
  },
  {
   "cell_type": "markdown",
   "metadata": {},
   "source": [
    "Question 8.  Given the dictionary defined in the code cell below, print the list of level 3 spells the character has."
   ]
  },
  {
   "cell_type": "code",
   "execution_count": 13,
   "metadata": {},
   "outputs": [
    {
     "name": "stdout",
     "output_type": "stream",
     "text": [
      "Level 3 spells: ['Mass Healing Word', 'Nondetection', 'Revivify', 'Feign Death', 'Speak with Dead']\n"
     ]
    }
   ],
   "source": [
    "# Given dictionary\n",
    "player_character = {\n",
    "    'name': 'Kitab',\n",
    "    'class': [('Cleric: Knowledge', 7)],\n",
    "    'spells': {\n",
    "        'cantrip': ['Guidance', 'Light', 'Thaumaturgy', 'Toll the Dead', 'Word of Radiance'],\n",
    "        'level 1': ['Command', 'Detect Magic', 'Healing Word', 'Identify', 'Sleep'],\n",
    "        'level 2': ['Augury', 'Calm Emotions', 'Command', 'Invisibility', 'Lesser Restoration'],\n",
    "        'level 3': ['Mass Healing Word', 'Nondetection', 'Revivify', 'Feign Death', 'Speak with Dead'],\n",
    "        'level 4': ['Banishment', 'Confusion']\n",
    "    }\n",
    "}\n",
    "\n",
    "# Print the list of level 3 spells\n",
    "level_3_spells = player_character['spells']['level 3']\n",
    "print(\"Level 3 spells:\", level_3_spells)\n"
   ]
  },
  {
   "cell_type": "markdown",
   "metadata": {},
   "source": [
    "Question 9. Write code to determine the number of unique elements in the list below.  You MUST use a set in finding your solution.  Print the number of unique values in the list with an appropriate label."
   ]
  },
  {
   "cell_type": "code",
   "execution_count": 14,
   "metadata": {},
   "outputs": [
    {
     "name": "stdout",
     "output_type": "stream",
     "text": [
      "The number of unique values in the list is: 12\n"
     ]
    }
   ],
   "source": [
    "# Given list\n",
    "values = [10, 11, 10, 8, 1, 12, 0, 1, 6, 5, 5, 13, 6, 15, 0, 0, 1, 1, 9, 7]\n",
    "\n",
    "# Use a set to find unique elements\n",
    "unique_elements = set(values)\n",
    "\n",
    "# Determine the number of unique elements\n",
    "num_unique_elements = len(unique_elements)\n",
    "\n",
    "# Print the result with an appropriate label\n",
    "print(f\"The number of unique values in the list is: {num_unique_elements}\")"
   ]
  },
  {
   "cell_type": "markdown",
   "metadata": {},
   "source": [
    "Question 10. Create a new Jupyter Notebook (the name of the notebook should be your S number). Add a Markdown cell that contains your name. Add a Code cell and write Python that uses loops to draw the following pattern:\n",
    "\n",
    "```\n",
    "*      *\n",
    "**    **\n",
    "***  ***\n",
    "********\n",
    "```\n",
    "Make sure to add and submit both the new notebook and the changes to this notebook for this assignment."
   ]
  },
  {
   "cell_type": "code",
   "execution_count": 15,
   "metadata": {},
   "outputs": [
    {
     "name": "stdout",
     "output_type": "stream",
     "text": [
      "*      *\n",
      "**    **\n",
      "***  ***\n",
      "********\n"
     ]
    }
   ],
   "source": [
    "# Set the number of rows for the pattern\n",
    "rows = 4\n",
    "\n",
    "for i in range(1, rows + 1):\n",
    "    # Print left-side asterisks\n",
    "    print(\"*\" * i, end=\"\")\n",
    "    # Print spaces in the middle\n",
    "    print(\" \" * (2 * (rows - i)), end=\"\")\n",
    "    # Print right-side asterisks\n",
    "    print(\"*\" * i)\n"
   ]
  },
  {
   "cell_type": "markdown",
   "metadata": {},
   "source": []
  }
 ],
 "metadata": {
  "kernelspec": {
   "display_name": "Python 3 (ipykernel)",
   "language": "python",
   "name": "python3"
  },
  "language_info": {
   "codemirror_mode": {
    "name": "ipython",
    "version": 3
   },
   "file_extension": ".py",
   "mimetype": "text/x-python",
   "name": "python",
   "nbconvert_exporter": "python",
   "pygments_lexer": "ipython3",
   "version": "3.12.4"
  }
 },
 "nbformat": 4,
 "nbformat_minor": 4
}
